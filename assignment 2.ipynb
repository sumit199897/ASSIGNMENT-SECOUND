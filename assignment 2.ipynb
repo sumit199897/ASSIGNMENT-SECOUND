{
 "cells": [
  {
   "cell_type": "code",
   "execution_count": 1,
   "id": "b0e0758f-e896-480d-b979-a2ac6d23e12a",
   "metadata": {},
   "outputs": [],
   "source": [
    "# write a programe to accept percentage from the user and display the greade accourding to following criteria "
   ]
  },
  {
   "cell_type": "code",
   "execution_count": 11,
   "id": "3f852633-6fa8-426e-871f-7b3fae950acf",
   "metadata": {},
   "outputs": [
    {
     "name": "stdin",
     "output_type": "stream",
     "text": [
      "enter your marks 56\n"
     ]
    },
    {
     "name": "stdout",
     "output_type": "stream",
     "text": [
      "Grade D\n"
     ]
    }
   ],
   "source": [
    "marks = int(input('enter your marks'))\n",
    "if marks >90 :\n",
    "    print(\"Grade A\")\n",
    "elif marks >=80 and marks <=90:\n",
    "    print(\"Grade B\")\n",
    "elif marks >=60 and marks <=80:\n",
    "    print(\" Grade C\")\n",
    "else:\n",
    "    print(\"Grade D\")"
   ]
  },
  {
   "cell_type": "code",
   "execution_count": 18,
   "id": "e99b1bfc-29c3-4b65-a4d3-c50a51eb6fcc",
   "metadata": {},
   "outputs": [
    {
     "name": "stdin",
     "output_type": "stream",
     "text": [
      "enter your cost price 40000\n"
     ]
    },
    {
     "name": "stdout",
     "output_type": "stream",
     "text": [
      "tax to be paid 2000.0\n"
     ]
    }
   ],
   "source": [
    "costprice = int(input(\"enter your cost price\"))\n",
    "if costprice >100000:\n",
    "    tax = 15/100 * costprice\n",
    "elif costprice >50000 and costprice <=100000 :\n",
    "    tax = 10/100 * costprice \n",
    "else :\n",
    "    tax = 5/100 * costprice\n",
    "print(\"tax to be paid\", tax)"
   ]
  },
  {
   "cell_type": "code",
   "execution_count": 21,
   "id": "69ca0de7-146e-471b-b0ff-87d5e769227b",
   "metadata": {},
   "outputs": [
    {
     "name": "stdin",
     "output_type": "stream",
     "text": [
      "enter your purchase price 2000\n"
     ]
    },
    {
     "name": "stdout",
     "output_type": "stream",
     "text": [
      "sellprice 2200.0\n"
     ]
    }
   ],
   "source": [
    "purchase = int(input(\"enter your purchase price\"))\n",
    "if purchase >10000: \n",
    "    tax = 20/100*purchase\n",
    "elif purchase  >5000 and purchase <=10000:\n",
    "    tax = 15/100*purchase\n",
    "elif purchase >1000 and purchase <=5000:\n",
    "    tax = 10/100*purchase\n",
    "else:\n",
    "    tax = 5/100*purchase\n",
    "print(\"sellprice\", purchase + tax)"
   ]
  },
  {
   "cell_type": "code",
   "execution_count": 44,
   "id": "84b97ead-4725-437a-8917-e286565a3bb0",
   "metadata": {},
   "outputs": [
    {
     "name": "stdin",
     "output_type": "stream",
     "text": [
      "enter a city jaipur\n"
     ]
    },
    {
     "name": "stdout",
     "output_type": "stream",
     "text": [
      "jal mahal\n"
     ]
    }
   ],
   "source": [
    "city = input(\"enter a city\")\n",
    "if city == \"delhi\":\n",
    "    print(\"red fort\")\n",
    "elif city == \"agra\":\n",
    "    print(\"taj mahal\")\n",
    "elif city == \"jaipur\":\n",
    "    print(\"jal mahal\")\n",
    "else:\n",
    "    print(\"enter a city\")"
   ]
  },
  {
   "cell_type": "code",
   "execution_count": 5,
   "id": "a9a9a757-fac3-4095-bacd-829585db51fe",
   "metadata": {},
   "outputs": [],
   "source": [
    "# Why and When to Uso while Loop In Python give a detalled description with example"
   ]
  },
  {
   "cell_type": "code",
   "execution_count": 7,
   "id": "29c18850-cbc8-4601-a8d5-9863b63cee1a",
   "metadata": {},
   "outputs": [
    {
     "name": "stdout",
     "output_type": "stream",
     "text": [
      "1\n",
      "2\n",
      "3\n",
      "4\n",
      "5\n",
      "6\n",
      "7\n",
      "8\n",
      "9\n",
      "10\n",
      "11\n",
      "12\n",
      "13\n",
      "14\n",
      "15\n",
      "16\n",
      "17\n",
      "18\n",
      "19\n",
      "20\n"
     ]
    }
   ],
   "source": [
    "# A while loop is a control flow statement which allows code to be executed repeatedly, depending on whether a condition is satisfied or not.\n",
    "# example \n",
    "a= 1\n",
    "while a <=20:\n",
    "    print(a)\n",
    "    a = a+1"
   ]
  },
  {
   "cell_type": "code",
   "execution_count": 8,
   "id": "784d1697-15dd-4489-be56-c905181a0826",
   "metadata": {},
   "outputs": [],
   "source": [
    "# Uso nested while loop to print 3 different pattern"
   ]
  },
  {
   "cell_type": "code",
   "execution_count": 9,
   "id": "b91ee7b1-bba5-416e-b303-a3043c1edfea",
   "metadata": {},
   "outputs": [
    {
     "name": "stdout",
     "output_type": "stream",
     "text": [
      "1 \n",
      "1 2 \n",
      "1 2 3 \n",
      "1 2 3 4 \n",
      "1 2 3 4 5 \n"
     ]
    }
   ],
   "source": [
    "i=1\n",
    "while i<=5:\n",
    "    j=1\n",
    "    while j<=i:\n",
    "        print(j,end=\" \")\n",
    "        j=j+1\n",
    "    print(\"\")\n",
    "    i=i+1"
   ]
  },
  {
   "cell_type": "code",
   "execution_count": 10,
   "id": "bc0902d6-7c31-4daa-b5af-69783a12975e",
   "metadata": {},
   "outputs": [
    {
     "name": "stdout",
     "output_type": "stream",
     "text": [
      "Outer Loop:  1 time ------------------\n",
      "Inner Loop: 1\n",
      "Inner Loop: 2\n",
      "Outer Loop:  2 time ------------------\n",
      "Inner Loop: 1\n",
      "Inner Loop: 2\n",
      "Outer Loop:  3 time ------------------\n",
      "Inner Loop: 1\n",
      "Inner Loop: 2\n"
     ]
    }
   ],
   "source": [
    "i = 1\n",
    "while i <= 3:\n",
    "    print(\"Outer Loop: \", i, \"time ------------------\")\n",
    "    j = 1\n",
    "    while j <= 2:\n",
    "        print(\"Inner Loop:\", j)\n",
    "        j += 1\n",
    "    i += 1"
   ]
  },
  {
   "cell_type": "code",
   "execution_count": 12,
   "id": "edd6d2e8-3593-46f3-ae32-b2cd89fc54b2",
   "metadata": {},
   "outputs": [
    {
     "name": "stdout",
     "output_type": "stream",
     "text": [
      "1 2 3 \n",
      "4 5 6 \n",
      "7 8 9 \n"
     ]
    }
   ],
   "source": [
    "list1 = [[1, 2, 3], [4, 5, 6], [7, 8, 9]]\n",
    "\n",
    "i = 0\n",
    "# outer loop\n",
    "while i < len(list1):\n",
    "    j = 0\n",
    "    # inner loop\n",
    "    while j < len(list1[i]):\n",
    "        print(list1[i][j], end=\" \")\n",
    "        j += 1\n",
    "    print()\n",
    "    i += 1"
   ]
  },
  {
   "cell_type": "code",
   "execution_count": 13,
   "id": "bcf5b104-5ec7-4707-a784-54987e209c33",
   "metadata": {},
   "outputs": [],
   "source": [
    "# Reverse a While loop to display numbers from 10 to 1."
   ]
  },
  {
   "cell_type": "code",
   "execution_count": null,
   "id": "fa227532-3381-4338-b704-01d3c4530638",
   "metadata": {},
   "outputs": [],
   "source": [
    "n = 12345678910\n",
    "rev = 0\n",
    "\n",
    "while(n > 0): \n",
    "\ta = n % 10\n",
    "\trev = rev * 10 + a \n",
    "\tn = n // 10\n",
    "\n",
    "print(rev) "
   ]
  },
  {
   "cell_type": "code",
   "execution_count": null,
   "id": "75c6f196-e4c7-4394-9f9b-f1d58b1d1a58",
   "metadata": {},
   "outputs": [],
   "source": []
  }
 ],
 "metadata": {
  "kernelspec": {
   "display_name": "Python 3 (ipykernel)",
   "language": "python",
   "name": "python3"
  },
  "language_info": {
   "codemirror_mode": {
    "name": "ipython",
    "version": 3
   },
   "file_extension": ".py",
   "mimetype": "text/x-python",
   "name": "python",
   "nbconvert_exporter": "python",
   "pygments_lexer": "ipython3",
   "version": "3.10.6"
  }
 },
 "nbformat": 4,
 "nbformat_minor": 5
}
